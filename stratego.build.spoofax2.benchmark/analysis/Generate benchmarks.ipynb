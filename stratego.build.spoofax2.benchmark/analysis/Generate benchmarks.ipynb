{
 "cells": [
  {
   "cell_type": "code",
   "execution_count": 1,
   "id": "4a364bca-8428-4e34-962c-6cb746c5b7e0",
   "metadata": {},
   "outputs": [],
   "source": [
    "def rule(name: str, match: str, build: str, where: str):\n",
    "    return rule(name, match, build) + f\"where {where}\"\n",
    "\n",
    "def rule(name: str, match: str, build: str):\n",
    "    return f\"{name}: {match} -> {build}\""
   ]
  },
  {
   "cell_type": "code",
   "execution_count": 2,
   "id": "31a87464-f66d-4c1d-bbb5-37e8e36a9d5c",
   "metadata": {},
   "outputs": [],
   "source": [
    "MODULE_NAME = \"benchnullary\"\n",
    "RULE_NAME = \"R\"\n",
    "SORT_NAME = \"S\"\n",
    "CONS_NAME = \"Constr{}\"\n",
    "BUILD = \"Constr{}\"\n",
    "NUM_REPEATS = 1000\n",
    "\n",
    "PROGRAM_SIZE_LOWER = 100\n",
    "PROGRAM_SIZE_UPPER = 500\n",
    "PROGRAM_SIZE_STEP = 100\n",
    "\n",
    "PROGRAM_OUTPUT_DIR = \"generated-benchmarks\""
   ]
  },
  {
   "cell_type": "code",
   "execution_count": 15,
   "id": "9f232da2-20f3-4ad3-9316-67bc6980cf62",
   "metadata": {},
   "outputs": [
    {
     "name": "stdout",
     "output_type": "stream",
     "text": [
      "\n",
      "module benchnullary2\n",
      "\n",
      "imports libstratego-lib\n",
      "\n",
      "signature\n",
      "  sorts S\n",
      "  constructors\n",
      "    Constr1 : S\n",
      "    Constr2 : S\n",
      "    Constr3 : S\n",
      "    Constr4 : S\n",
      "\n",
      "strategies\n",
      "\n",
      "  main = <repeat(R|1000)> Constr2()\n",
      "\n",
      "\n",
      "rules\n",
      "\n",
      "  R: Constr1() -> Constr1()\n",
      "  R: Constr2() -> Constr2()\n",
      "  R: Constr3() -> Constr3()\n",
      "  R: Constr4() -> Constr4()\n",
      "\n",
      "\n"
     ]
    }
   ],
   "source": [
    "import os\n",
    "\n",
    "def PROGRAM(input_size: int, num_constructors: int):\n",
    "    constructor_ids = range(1, num_constructors + 1)\n",
    "    module_name = MODULE_NAME + str(input_size)\n",
    "    return {\n",
    "        \"module_name\": module_name + \".str2\", \n",
    "        \"contents\": f\"\"\"\n",
    "module {module_name}\n",
    "\n",
    "imports libstratego-lib\n",
    "\n",
    "signature\n",
    "  sorts {SORT_NAME}\n",
    "  constructors\n",
    "{os.linesep.join([f\"    {CONS_NAME.format(i)} : {SORT_NAME}\" for i in constructor_ids])}\n",
    "\n",
    "strategies\n",
    "\n",
    "  main = <repeat({RULE_NAME}|{NUM_REPEATS})> {CONS_NAME.format(input_size)}()\n",
    "\n",
    "\n",
    "rules\n",
    "\n",
    "{os.linesep.join([f\"  {rule(RULE_NAME, CONS_NAME.format(i) + '()', CONS_NAME.format(i) + '()')}\" for i in constructor_ids])}\n",
    "\n",
    "\"\"\"}\n",
    "\n",
    "print(PROGRAM(2, 4)[\"contents\"])"
   ]
  },
  {
   "cell_type": "code",
   "execution_count": 16,
   "id": "484f3f83-57db-4880-9875-c63846e63f46",
   "metadata": {},
   "outputs": [],
   "source": [
    "from os import path\n",
    "\n",
    "for input_size in range(PROGRAM_SIZE_LOWER, PROGRAM_SIZE_UPPER + 1, PROGRAM_SIZE_STEP):\n",
    "    prog = PROGRAM(input_size, PROGRAM_SIZE_UPPER)\n",
    "    \n",
    "    filename = path.join(PROGRAM_OUTPUT_DIR, prog['module_name'])\n",
    "    contents = prog[\"contents\"]\n",
    "    \n",
    "    os.makedirs(path.dirname(filename), exist_ok=True)\n",
    "    with open(filename, 'w') as prog_file:\n",
    "        prog_file.write(contents)"
   ]
  },
  {
   "cell_type": "code",
   "execution_count": 13,
   "id": "7bf8be34-c37a-4d71-ac07-dbb8a3c13bea",
   "metadata": {},
   "outputs": [
    {
     "name": "stdout",
     "output_type": "stream",
     "text": [
      "\n",
      "begin\n",
      "var n0;\n",
      "n0 := readint();\n",
      "var n1; n1 := n0 + 1;\n",
      "var n2; n2 := n1 + 1;\n",
      "var n3; n3 := n2 + 1;\n",
      "var n4; n4 := n3 + 1;\n",
      "var n5; n5 := n4 + 1;\n",
      "var n6; n6 := n5 + 1;\n",
      "var n7; n7 := n6 + 1;\n",
      "var n8; n8 := n7 + 1;\n",
      "var n9; n9 := n8 + 1;\n",
      "var n10; n10 := n9 + 1;\n",
      "write(n10);\n",
      "end\n",
      "\n"
     ]
    }
   ],
   "source": [
    "import os\n",
    "\n",
    "def TIL_add_program(input_size: int):\n",
    "    module_name = \"add\" + str(input_size) + \".til\"\n",
    "    return {\n",
    "        \"module_name\": module_name, \n",
    "        \"contents\": f\"\"\"\n",
    "begin\n",
    "var n0;\n",
    "n0 := readint();\n",
    "{os.linesep.join([f\"var n{i+1}; n{i+1} := n{i} + 1;\" for i in range(input_size)])}\n",
    "write(n{input_size});\n",
    "end\n",
    "\"\"\"}\n",
    "\n",
    "print(TIL_add_program(10)[\"contents\"])"
   ]
  },
  {
   "cell_type": "code",
   "execution_count": 17,
   "id": "b654de99-9ed7-4973-b402-df82e1ab68b9",
   "metadata": {},
   "outputs": [],
   "source": [
    "from os import path\n",
    "\n",
    "for input_size in range(PROGRAM_SIZE_LOWER, (2*PROGRAM_SIZE_UPPER) + 1, PROGRAM_SIZE_STEP):\n",
    "    prog = TIL_add_program(input_size)\n",
    "    \n",
    "    filename = path.join(PROGRAM_OUTPUT_DIR, prog['module_name'])\n",
    "    contents = prog[\"contents\"]\n",
    "    \n",
    "    os.makedirs(path.dirname(filename), exist_ok=True)\n",
    "    with open(filename, 'w') as prog_file:\n",
    "        prog_file.write(contents)"
   ]
  },
  {
   "cell_type": "code",
   "execution_count": null,
   "id": "c03dd769-98b4-4ed7-8876-1b6382343aab",
   "metadata": {},
   "outputs": [],
   "source": []
  }
 ],
 "metadata": {
  "kernelspec": {
   "display_name": "Python 3 (ipykernel)",
   "language": "python",
   "name": "python3"
  },
  "language_info": {
   "codemirror_mode": {
    "name": "ipython",
    "version": 3
   },
   "file_extension": ".py",
   "mimetype": "text/x-python",
   "name": "python",
   "nbconvert_exporter": "python",
   "pygments_lexer": "ipython3",
   "version": "3.9.13"
  }
 },
 "nbformat": 4,
 "nbformat_minor": 5
}
